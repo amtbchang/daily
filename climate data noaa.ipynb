{
 "cells": [
  {
   "cell_type": "code",
   "execution_count": 1,
   "metadata": {},
   "outputs": [],
   "source": [
    "###https://www.esrl.noaa.gov/psd/products/\n",
    "from netCDF4 import Dataset\n",
    "import numpy as np\n",
    "path = r'G:\\china_geodata\\world_climate\\precip.2010.nc'\n",
    "path1 = r'G:\\china_geodata\\world_climate\\tmax.day.ltm.nc'\n",
    "path2 = r'G:\\china_geodata\\world_climate\\tmin.2010.nc'\n",
    "data = Dataset(path, 'r')\n",
    "data1 = Dataset(path1, 'r')\n",
    "data2 = Dataset(path2, 'r')"
   ]
  },
  {
   "cell_type": "code",
   "execution_count": 2,
   "metadata": {},
   "outputs": [
    {
     "data": {
      "text/plain": [
       "<class 'netCDF4._netCDF4.Dataset'>\n",
       "root group (NETCDF4_CLASSIC data model, file format HDF5):\n",
       "    Conventions: CF-1.0\n",
       "    version: V1.0\n",
       "    history: created 9/2016 by CAS NOAA/ESRL PSD\n",
       "    title: CPC GLOBAL PRCP V1.0 RT\n",
       "    References: https://www.esrl.noaa.gov/psd/data/gridded/data.cpc.globalprecip.html\n",
       "    dataset_title: CPC GLOBAL PRCP V1.0\n",
       "    Source: ftp://ftp.cpc.ncep.noaa.gov/precip/CPC_UNI_PRCP/\n",
       "    dimensions(sizes): lat(360), lon(720), time(365)\n",
       "    variables(dimensions): float32 \u001b[4mlat\u001b[0m(lat), float32 \u001b[4mlon\u001b[0m(lon), float64 \u001b[4mtime\u001b[0m(time), float32 \u001b[4mprecip\u001b[0m(time,lat,lon)\n",
       "    groups: "
      ]
     },
     "execution_count": 2,
     "metadata": {},
     "output_type": "execute_result"
    }
   ],
   "source": [
    "data"
   ]
  },
  {
   "cell_type": "code",
   "execution_count": 5,
   "metadata": {},
   "outputs": [
    {
     "data": {
      "image/png": "[encoded data removed]",
      "text/plain": [
       "<Figure size 648x216 with 3 Axes>"
      ]
     },
     "metadata": {},
     "output_type": "display_data"
    }
   ],
   "source": [
    "from osgeo import gdal\n",
    "import matplotlib.pyplot as plt \n",
    "\n",
    "dataset = [('tmax',data1),('tmin',data2), ('precip',data)]\n",
    "fig, axs = plt.subplots(1, 3, figsize=(9, 3), sharey=True)\n",
    "for i, (name, reg) in enumerate(dataset):\n",
    "    axs[i].imshow(reg[name][1,:,:])\n",
    "    axs[i].set_title(name)"
   ]
  },
  {
   "cell_type": "code",
   "execution_count": 4,
   "metadata": {},
   "outputs": [],
   "source": [
    "#write tif\n",
    "def writeTiff(im_data,im_width,im_height,im_bands,im_geotrans,im_proj,path):\n",
    "    if 'int8' in im_data.dtype.name:\n",
    "        datatype = gdal.GDT_Byte\n",
    "    elif 'int16' in im_data.dtype.name:\n",
    "        datatype = gdal.GDT_UInt16\n",
    "    else:\n",
    "        datatype = gdal.GDT_Float32\n",
    "\n",
    "    if len(im_data.shape) == 3:\n",
    "        im_bands, im_height, im_width = im_data.shape\n",
    "    elif len(im_data.shape) == 2:\n",
    "        im_data = np.array([im_data])\n",
    "    else:\n",
    "        im_bands, (im_height, im_width) = 1,im_data.shape\n",
    "        #创建文件\n",
    "    driver = gdal.GetDriverByName(\"GTiff\")\n",
    "    dataset = driver.Create(path, im_width, im_height, im_bands, datatype)\n",
    "    if(dataset!= None):\n",
    "        dataset.SetGeoTransform(im_geotrans) #写入仿射变换参数\n",
    "        dataset.SetProjection(im_proj) #写入投影\n",
    "    for i in range(im_bands):\n",
    "        dataset.GetRasterBand(i+1).WriteArray(im_data[i])\n",
    "    del dataset"
   ]
  },
  {
   "cell_type": "code",
   "execution_count": 28,
   "metadata": {},
   "outputs": [],
   "source": [
    "from osgeo import gdal\n",
    "ds = gdal.Open(r'G:\\china_geodata\\China_soil_1km\\ChinaSoil_1km.tif')\n",
    "prj = ds.GetProjection()\n",
    "#tr = ds.GetGeoTransform()\n",
    "tr = (0.25, 0.25, 0.0, 90, 0.0, -0.25)\n",
    "writeTiff(data1['tmax'][180,:,:],720, 360, 1,tr, prj,r'G:\\rice_china\\ex.tif')"
   ]
  },
  {
   "cell_type": "code",
   "execution_count": 130,
   "metadata": {},
   "outputs": [
    {
     "data": {
      "text/plain": [
       "(16988, 2)"
      ]
     },
     "execution_count": 130,
     "metadata": {},
     "output_type": "execute_result"
    }
   ],
   "source": [
    "# create china point csv file\n",
    "import pandas as pd\n",
    "\n",
    "lat = data1['lat'][:]\n",
    "lon = data1['lon'][:]\n",
    "a = lat[lat>14.25]\n",
    "lat_index = a[a <83.25]\n",
    "b = lon[lon >73.325]\n",
    "lon_index = b[b < 135.325]\n",
    "x = []\n",
    "y = []\n",
    "\n",
    "for i in lon_index:\n",
    "    for j in lat_index:\n",
    "        x.append([i,j])\n",
    "x = np.array(x)\n",
    "x.shape\n",
    "new_xy = pd.DataFrame()\n",
    "new_xy['x'] = x[:,0]\n",
    "new_xy['y'] = x[:,1]\n",
    "new_xy.to_csv(r'G:\\rice_china\\xy.csv')"
   ]
  },
  {
   "cell_type": "code",
   "execution_count": 132,
   "metadata": {},
   "outputs": [],
   "source": [
    "#[('tmax',data1),('tmin',data2), ('precip',data)]"
   ]
  },
  {
   "cell_type": "code",
   "execution_count": 144,
   "metadata": {},
   "outputs": [],
   "source": [
    "#create point climate file for dndc\n",
    "pt_ch = pd.read_csv(r'G:\\rice_china\\xy_china.csv')\n",
    "fid = pt_ch['id']\n",
    "x_ch = pt_ch['x']\n",
    "y_ch = pt_ch['y']\n",
    "\n",
    "climate = pd.DataFrame()\n",
    "for id in fid:\n",
    "    i = x_ch[id]\n",
    "    j = y_ch[id]\n",
    "    climate['jday'] = np.arange(1, 366, 1)\n",
    "    climate['tmax'] = data1['tmax'][:,i, j]\n",
    "    climate['tmin'] = data2['tmin'][:,i, j]\n",
    "    climate['pre'] = data['precip'][:,i, j]/10 # cm in dnd unit\n",
    "    climate.to_csv(r'G:\\rice_china\\climate\\%d.csv'%id,index=False)"
   ]
  },
  {
   "cell_type": "code",
   "execution_count": null,
   "metadata": {},
   "outputs": [],
   "source": [
    "111*0.5"
   ]
  },
  {
   "cell_type": "code",
   "execution_count": null,
   "metadata": {},
   "outputs": [],
   "source": []
  },
  {
   "cell_type": "code",
   "execution_count": null,
   "metadata": {},
   "outputs": [],
   "source": [
    "  "
   ]
  },
  {
   "cell_type": "code",
   "execution_count": null,
   "metadata": {},
   "outputs": [],
   "source": []
  },
  {
   "cell_type": "code",
   "execution_count": null,
   "metadata": {},
   "outputs": [],
   "source": []
  }
 ],
 "metadata": {
  "kernelspec": {
   "display_name": "Python 3",
   "language": "python",
   "name": "python3"
  },
  "language_info": {
   "codemirror_mode": {
    "name": "ipython",
    "version": 3
   },
   "file_extension": ".py",
   "mimetype": "text/x-python",
   "name": "python",
   "nbconvert_exporter": "python",
   "pygments_lexer": "ipython3",
   "version": "3.6.5"
  }
 },
 "nbformat": 4,
 "nbformat_minor": 2
}
